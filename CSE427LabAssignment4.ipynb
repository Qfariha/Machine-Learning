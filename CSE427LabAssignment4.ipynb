{
  "nbformat": 4,
  "nbformat_minor": 0,
  "metadata": {
    "colab": {
      "provenance": []
    },
    "kernelspec": {
      "name": "python3",
      "display_name": "Python 3"
    },
    "language_info": {
      "name": "python"
    }
  },
  "cells": [
    {
      "cell_type": "code",
      "execution_count": 1,
      "metadata": {
        "id": "JFZPU7oO0ovh"
      },
      "outputs": [],
      "source": [
        "# import necessary libraries\n",
        "import numpy as np\n",
        "from collections import Counter\n",
        "from sklearn.model_selection import train_test_split\n",
        "from sklearn.datasets import load_iris\n",
        "from sklearn.metrics import accuracy_score\n",
        "from sklearn.model_selection import cross_val_score\n",
        "import matplotlib.pyplot as plt"
      ]
    },
    {
      "cell_type": "markdown",
      "source": [
        "# Implementing KNN Classifier from Scratch"
      ],
      "metadata": {
        "id": "61ePAAeU8An6"
      }
    },
    {
      "cell_type": "code",
      "source": [
        "class KNN:\n",
        "    def __init__(self, k):\n",
        "        # assign the neighbour count\n",
        "         self.k = k\n",
        "\n",
        "    def euclidean_distance(self, point1, point2):\n",
        "        # return the euclidean distance between two points\n",
        "        distance = 0\n",
        "        for i in range(len(point1)):\n",
        "            distance = (point1[i] - point2[i]) ** 2\n",
        "        return np.sqrt(distance)\n",
        "\n",
        "    def fit(self, X_train, y_train):\n",
        "        # assign the train and test data\n",
        "        self.X_train = X_train\n",
        "        self.y_train = y_train\n",
        "\n",
        "    def predict(self, X_test):\n",
        "        # this method iterates over all the data points in our test dataset and stores their individual labels\n",
        "        # Hint: during each iteration, you have to call the predict_label method below to get the label\n",
        "        # returns the prediction of each dataset altogether as an array\n",
        "        predictions = []\n",
        "        for x in X_test:\n",
        "            label = self.predict_label(x)  #Predicts the label for a single test point\n",
        "            predictions.append(label)\n",
        "        return predictions\n",
        "\n",
        "    #this predict_label method will return the most common label for the individual data point called from the predict method\n",
        "    def predict_label(self, x):\n",
        "        # Compute distances to all training points\n",
        "        # Sort by distance and get the indices of the nearest neighbors\n",
        "        # Get the labels of the nearest neighbors\n",
        "        # Return the most common class label among the neighbors\n",
        "        distances = []\n",
        "        for train_point in self.X_train:\n",
        "            dist = self.euclidean_distance(x, train_point)\n",
        "            distances.append(dist)\n",
        "\n",
        "\n",
        "        sorted_indices = np.argsort(distances)\n",
        "        k_indices = []\n",
        "        for i in range(self.k):\n",
        "            k_indices.append(sorted_indices[i])\n",
        "\n",
        "\n",
        "        k_labels = []\n",
        "        for i in k_indices:\n",
        "            k_labels.append(self.y_train[i])\n",
        "\n",
        "\n",
        "        label_counts = {}\n",
        "        for label in k_labels:\n",
        "            if label in label_counts:\n",
        "                label_counts[label] += 1\n",
        "            else:\n",
        "                label_counts[label] = 1\n",
        "\n",
        "\n",
        "        most_common_label = max(label_counts, key=label_counts.get)\n",
        "        return most_common_label\n",
        "\n"
      ],
      "metadata": {
        "id": "BL71w3dz7y_6"
      },
      "execution_count": 2,
      "outputs": []
    },
    {
      "cell_type": "code",
      "source": [
        "# Load the Iris dataset\n",
        "iris = load_iris()\n",
        "X = iris.data\n",
        "y = iris.target\n",
        "\n",
        "# Split the data into training and test sets\n",
        "X_train, X_test, y_train, y_test = train_test_split(X, y, test_size=0.3, random_state=41)\n",
        "\n",
        "# Initialize KNN classifier with the value of n\n",
        "knn = KNN(3)\n",
        "\n",
        "# Fit the model\n",
        "knn.fit(X_train, y_train)\n",
        "\n",
        "# Predict on the test set\n",
        "y_pred = knn.predict(X_test)\n",
        "\n",
        "# Calculate accuracy (write down the equation to calculate accuracy, and uncomment the print function)\n",
        "\n",
        "correct_predictions = 0\n",
        "\n",
        "for i in range(len(y_test)):\n",
        "    if y_pred[i] == y_test[i]:\n",
        "        correct_predictions += 1\n",
        "\n",
        "# Calculate accuracy\n",
        "accuracy = correct_predictions / len(y_test)\n",
        "\n",
        "print(f\"Accuracy of KNN from scratch: {accuracy * 100:.2f}%\")"
      ],
      "metadata": {
        "id": "1tc0aUg-73Jg",
        "colab": {
          "base_uri": "https://localhost:8080/"
        },
        "outputId": "30a326b7-f8aa-412a-f6e6-3566325611f8"
      },
      "execution_count": 3,
      "outputs": [
        {
          "output_type": "stream",
          "name": "stdout",
          "text": [
            "Accuracy of KNN from scratch: 93.33%\n"
          ]
        }
      ]
    }
  ]
}